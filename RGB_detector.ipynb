{
 "cells": [
  {
   "cell_type": "code",
   "execution_count": 1,
   "id": "48ff6cbe",
   "metadata": {},
   "outputs": [
    {
     "name": "stdout",
     "output_type": "stream",
     "text": [
      "[[[120 255 255]]] shape: (1, 1, 3)\n",
      "bgr:  [255, 0, 0]\n",
      "hsv:  [120 255 255]\n"
     ]
    }
   ],
   "source": [
    "import numpy as np\n",
    "import cv2\n",
    "\n",
    "color = [255,0,0] # BGR 순서 ; 파란색\n",
    "pixel = np.uint8([[color]]) # 한 픽셀로 구성된 이미지로 변환\n",
    "\n",
    "# BGR -> HSV\n",
    "hsv = cv2.cvtColor(pixel, cv2.COLOR_BGR2HSV)\n",
    "print(hsv, 'shape:', hsv.shape )\n",
    "\n",
    "# 픽셀값만 가져오기 \n",
    "hsv = hsv[0][0]\n",
    "\n",
    "print(\"bgr: \", color)\n",
    "print(\"hsv: \", hsv) # +_ 10"
   ]
  },
  {
   "cell_type": "code",
   "execution_count": 2,
   "id": "eac57016",
   "metadata": {},
   "outputs": [
    {
     "name": "stdout",
     "output_type": "stream",
     "text": [
      "[[[255   0   0]]]\n"
     ]
    }
   ],
   "source": [
    "print(pixel)"
   ]
  },
  {
   "cell_type": "code",
   "execution_count": 5,
   "id": "ef0d3a57",
   "metadata": {},
   "outputs": [
    {
     "name": "stdout",
     "output_type": "stream",
     "text": [
      "shape:  (361, 365, 3)\n"
     ]
    }
   ],
   "source": [
    "import numpy as np\n",
    "import cv2\n",
    "\n",
    "img_color = cv2.imread('test_img.png') # 이미지 파일을 컬러로 불러옴\n",
    "print('shape: ', img_color.shape)\n",
    "\n",
    "height, width = img_color.shape[:2] # 이미지의 높이와 너비 불러옴, 가로 [0], 세로[1]\n",
    "\n",
    "img_hsv = cv2.cvtColor(img_color, cv2.COLOR_BGR2HSV) # cvtColor 함수를 이용하여 hsv 색공간으로 변환\n",
    "\n",
    "lower_blue = (120-10, 30, 30) # hsv 이미지에서 바이너리 이미지로 생성 , 적당한 값 30\n",
    "upper_blue = (120+10, 255, 255)\n",
    "img_mask = cv2.inRange(img_hsv, lower_blue, upper_blue) # 범위내의 픽셀들은 흰색, 나머지 검은색\n",
    "\n",
    "# 바이너리 이미지를 마스크로 사용하여 원본이미지에서 범위값에 해당하는 영상부분을 획득\n",
    "img_result = cv2.bitwise_and(img_color, img_color, mask = img_mask)\n",
    "\n",
    "cv2.imshow('img_origin', img_color)\n",
    "cv2.imshow('img_mask', img_mask)\n",
    "cv2.imshow('img_color', img_result)\n",
    "\n",
    "cv2.waitKey(0)\n",
    "cv2.destroyAllWindows()"
   ]
  },
  {
   "cell_type": "code",
   "execution_count": 8,
   "id": "609830af",
   "metadata": {},
   "outputs": [
    {
     "name": "stdout",
     "output_type": "stream",
     "text": [
      "(361, 365, 3)\n"
     ]
    }
   ],
   "source": [
    "print(img_hsv.shape)"
   ]
  },
  {
   "cell_type": "code",
   "execution_count": 13,
   "id": "010dd641",
   "metadata": {},
   "outputs": [],
   "source": [
    "from PIL import Image\n",
    "\n",
    "im = Image.open('test_img.png')\n",
    "pix = np.array(im)"
   ]
  },
  {
   "cell_type": "code",
   "execution_count": 19,
   "id": "0f7a0c11",
   "metadata": {},
   "outputs": [
    {
     "name": "stdout",
     "output_type": "stream",
     "text": [
      "365 361\n"
     ]
    }
   ],
   "source": [
    "im_x = im.size[0]\n",
    "im_y = im.size[1]\n",
    "\n",
    "print(im_x, im_y)"
   ]
  },
  {
   "cell_type": "code",
   "execution_count": 3,
   "id": "80b00289",
   "metadata": {
    "scrolled": true
   },
   "outputs": [
    {
     "name": "stdout",
     "output_type": "stream",
     "text": [
      "검출할 사진의 이름을 입력해 주세요. >> test_img\n",
      "좌표 영역 끝값은  361 365\n",
      "어떤 색을 찾을까요? 1. 파랑, 2. 주황, 3. 빨강 (숫자를 입력해 주세요)>>2\n",
      "하이컬러는  [265, 137, 49]  로우 컬러는  [245, 117, 29] 입니다.\n",
      "x의 최소값이 바뀌었습니다!\n",
      "x의 최대값이 바뀌었습니다!\n",
      "y의 최소값이 바뀌었습니다!\n",
      "x의 최대값이 바뀌었습니다!\n",
      "x의 최대값이 바뀌었습니다!\n",
      "x의 최대값이 바뀌었습니다!\n",
      "x의 최대값이 바뀌었습니다!\n",
      "x의 최대값이 바뀌었습니다!\n",
      "x의 최대값이 바뀌었습니다!\n",
      "x의 최대값이 바뀌었습니다!\n",
      "x의 최대값이 바뀌었습니다!\n",
      "x의 최대값이 바뀌었습니다!\n",
      "x의 최대값이 바뀌었습니다!\n",
      "x의 최대값이 바뀌었습니다!\n",
      "x의 최대값이 바뀌었습니다!\n",
      "x의 최대값이 바뀌었습니다!\n",
      "x의 최대값이 바뀌었습니다!\n",
      "x의 최대값이 바뀌었습니다!\n",
      "x의 최대값이 바뀌었습니다!\n",
      "x의 최대값이 바뀌었습니다!\n",
      "x의 최대값이 바뀌었습니다!\n",
      "x의 최대값이 바뀌었습니다!\n",
      "x의 최대값이 바뀌었습니다!\n",
      "x의 최대값이 바뀌었습니다!\n",
      "x의 최대값이 바뀌었습니다!\n",
      "x의 최대값이 바뀌었습니다!\n",
      "y의 최소값이 바뀌었습니다!\n",
      "x의 최대값이 바뀌었습니다!\n",
      "x의 최대값이 바뀌었습니다!\n",
      "x의 최대값이 바뀌었습니다!\n",
      "x의 최대값이 바뀌었습니다!\n",
      "x의 최대값이 바뀌었습니다!\n",
      "x의 최대값이 바뀌었습니다!\n",
      "x의 최대값이 바뀌었습니다!\n",
      "x의 최대값이 바뀌었습니다!\n",
      "x의 최대값이 바뀌었습니다!\n",
      "x의 최대값이 바뀌었습니다!\n",
      "x의 최대값이 바뀌었습니다!\n",
      "y의 최소값이 바뀌었습니다!\n",
      "x의 최대값이 바뀌었습니다!\n",
      "x의 최대값이 바뀌었습니다!\n",
      "x의 최대값이 바뀌었습니다!\n",
      "x의 최대값이 바뀌었습니다!\n",
      "x의 최대값이 바뀌었습니다!\n",
      "x의 최대값이 바뀌었습니다!\n",
      "x의 최대값이 바뀌었습니다!\n",
      "x의 최대값이 바뀌었습니다!\n",
      "y의 최소값이 바뀌었습니다!\n",
      "x의 최대값이 바뀌었습니다!\n",
      "x의 최대값이 바뀌었습니다!\n",
      "x의 최대값이 바뀌었습니다!\n",
      "x의 최대값이 바뀌었습니다!\n",
      "x의 최대값이 바뀌었습니다!\n",
      "x의 최대값이 바뀌었습니다!\n",
      "x의 최대값이 바뀌었습니다!\n",
      "y의 최소값이 바뀌었습니다!\n",
      "x의 최대값이 바뀌었습니다!\n",
      "x의 최대값이 바뀌었습니다!\n",
      "x의 최대값이 바뀌었습니다!\n",
      "x의 최대값이 바뀌었습니다!\n",
      "x의 최대값이 바뀌었습니다!\n",
      "x의 최대값이 바뀌었습니다!\n",
      "y의 최소값이 바뀌었습니다!\n",
      "x의 최대값이 바뀌었습니다!\n",
      "x의 최대값이 바뀌었습니다!\n",
      "x의 최대값이 바뀌었습니다!\n",
      "x의 최대값이 바뀌었습니다!\n",
      "x의 최대값이 바뀌었습니다!\n",
      "y의 최소값이 바뀌었습니다!\n",
      "x의 최대값이 바뀌었습니다!\n",
      "x의 최대값이 바뀌었습니다!\n",
      "x의 최대값이 바뀌었습니다!\n",
      "x의 최대값이 바뀌었습니다!\n",
      "x의 최대값이 바뀌었습니다!\n",
      "y의 최소값이 바뀌었습니다!\n",
      "x의 최대값이 바뀌었습니다!\n",
      "x의 최대값이 바뀌었습니다!\n",
      "x의 최대값이 바뀌었습니다!\n",
      "x의 최대값이 바뀌었습니다!\n",
      "y의 최소값이 바뀌었습니다!\n",
      "x의 최대값이 바뀌었습니다!\n",
      "x의 최대값이 바뀌었습니다!\n",
      "x의 최대값이 바뀌었습니다!\n",
      "x의 최대값이 바뀌었습니다!\n",
      "y의 최소값이 바뀌었습니다!\n",
      "x의 최대값이 바뀌었습니다!\n",
      "x의 최대값이 바뀌었습니다!\n",
      "x의 최대값이 바뀌었습니다!\n",
      "x의 최대값이 바뀌었습니다!\n",
      "y의 최소값이 바뀌었습니다!\n",
      "x의 최대값이 바뀌었습니다!\n",
      "x의 최대값이 바뀌었습니다!\n",
      "x의 최대값이 바뀌었습니다!\n",
      "x의 최대값이 바뀌었습니다!\n",
      "y의 최소값이 바뀌었습니다!\n",
      "x의 최대값이 바뀌었습니다!\n",
      "x의 최대값이 바뀌었습니다!\n",
      "x의 최대값이 바뀌었습니다!\n",
      "x의 최대값이 바뀌었습니다!\n",
      "y의 최소값이 바뀌었습니다!\n",
      "x의 최대값이 바뀌었습니다!\n",
      "x의 최대값이 바뀌었습니다!\n",
      "x의 최대값이 바뀌었습니다!\n",
      "x의 최대값이 바뀌었습니다!\n",
      "y의 최소값이 바뀌었습니다!\n",
      "x의 최대값이 바뀌었습니다!\n",
      "x의 최대값이 바뀌었습니다!\n",
      "x의 최대값이 바뀌었습니다!\n",
      "y의 최소값이 바뀌었습니다!\n",
      "x의 최대값이 바뀌었습니다!\n",
      "x의 최대값이 바뀌었습니다!\n",
      "x의 최대값이 바뀌었습니다!\n",
      "x의 최대값이 바뀌었습니다!\n",
      "y의 최소값이 바뀌었습니다!\n",
      "x의 최대값이 바뀌었습니다!\n",
      "x의 최대값이 바뀌었습니다!\n",
      "x의 최대값이 바뀌었습니다!\n",
      "y의 최소값이 바뀌었습니다!\n",
      "x의 최대값이 바뀌었습니다!\n",
      "x의 최대값이 바뀌었습니다!\n",
      "x의 최대값이 바뀌었습니다!\n",
      "y의 최소값이 바뀌었습니다!\n",
      "x의 최대값이 바뀌었습니다!\n",
      "x의 최대값이 바뀌었습니다!\n",
      "x의 최대값이 바뀌었습니다!\n",
      "y의 최소값이 바뀌었습니다!\n",
      "x의 최대값이 바뀌었습니다!\n",
      "x의 최대값이 바뀌었습니다!\n",
      "x의 최대값이 바뀌었습니다!\n",
      "y의 최소값이 바뀌었습니다!\n",
      "x의 최대값이 바뀌었습니다!\n",
      "x의 최대값이 바뀌었습니다!\n",
      "x의 최대값이 바뀌었습니다!\n",
      "y의 최소값이 바뀌었습니다!\n",
      "x의 최대값이 바뀌었습니다!\n",
      "x의 최대값이 바뀌었습니다!\n",
      "x의 최대값이 바뀌었습니다!\n",
      "y의 최소값이 바뀌었습니다!\n",
      "x의 최대값이 바뀌었습니다!\n",
      "x의 최대값이 바뀌었습니다!\n",
      "x의 최대값이 바뀌었습니다!\n",
      "y의 최소값이 바뀌었습니다!\n",
      "x의 최대값이 바뀌었습니다!\n",
      "x의 최대값이 바뀌었습니다!\n",
      "x의 최대값이 바뀌었습니다!\n",
      "y의 최소값이 바뀌었습니다!\n",
      "x의 최대값이 바뀌었습니다!\n",
      "x의 최대값이 바뀌었습니다!\n",
      "x의 최대값이 바뀌었습니다!\n",
      "y의 최소값이 바뀌었습니다!\n",
      "x의 최대값이 바뀌었습니다!\n",
      "x의 최대값이 바뀌었습니다!\n",
      "y의 최소값이 바뀌었습니다!\n",
      "x의 최대값이 바뀌었습니다!\n",
      "x의 최대값이 바뀌었습니다!\n",
      "x의 최대값이 바뀌었습니다!\n",
      "y의 최소값이 바뀌었습니다!\n",
      "x의 최대값이 바뀌었습니다!\n",
      "x의 최대값이 바뀌었습니다!\n",
      "x의 최대값이 바뀌었습니다!\n",
      "y의 최소값이 바뀌었습니다!\n",
      "x의 최대값이 바뀌었습니다!\n",
      "x의 최대값이 바뀌었습니다!\n",
      "y의 최소값이 바뀌었습니다!\n",
      "x의 최대값이 바뀌었습니다!\n",
      "x의 최대값이 바뀌었습니다!\n",
      "x의 최대값이 바뀌었습니다!\n",
      "y의 최소값이 바뀌었습니다!\n",
      "x의 최대값이 바뀌었습니다!\n",
      "x의 최대값이 바뀌었습니다!\n",
      "y의 최소값이 바뀌었습니다!\n",
      "x의 최대값이 바뀌었습니다!\n",
      "x의 최대값이 바뀌었습니다!\n",
      "x의 최대값이 바뀌었습니다!\n",
      "y의 최소값이 바뀌었습니다!\n",
      "x의 최대값이 바뀌었습니다!\n",
      "x의 최대값이 바뀌었습니다!\n",
      "x의 최대값이 바뀌었습니다!\n",
      "y의 최소값이 바뀌었습니다!\n",
      "x의 최대값이 바뀌었습니다!\n",
      "x의 최대값이 바뀌었습니다!\n",
      "y의 최소값이 바뀌었습니다!\n",
      "x의 최대값이 바뀌었습니다!\n",
      "x의 최대값이 바뀌었습니다!\n",
      "y의 최소값이 바뀌었습니다!\n",
      "x의 최대값이 바뀌었습니다!\n",
      "x의 최대값이 바뀌었습니다!\n",
      "x의 최대값이 바뀌었습니다!\n",
      "y의 최소값이 바뀌었습니다!\n",
      "x의 최대값이 바뀌었습니다!\n",
      "x의 최대값이 바뀌었습니다!\n",
      "y의 최소값이 바뀌었습니다!\n",
      "x의 최대값이 바뀌었습니다!\n",
      "x의 최대값이 바뀌었습니다!\n",
      "y의 최소값이 바뀌었습니다!\n",
      "x의 최대값이 바뀌었습니다!\n",
      "x의 최대값이 바뀌었습니다!\n",
      "x의 최대값이 바뀌었습니다!\n",
      "y의 최소값이 바뀌었습니다!\n",
      "x의 최대값이 바뀌었습니다!\n",
      "x의 최대값이 바뀌었습니다!\n",
      "y의 최소값이 바뀌었습니다!\n",
      "x의 최대값이 바뀌었습니다!\n",
      "x의 최대값이 바뀌었습니다!\n",
      "y의 최소값이 바뀌었습니다!\n",
      "x의 최대값이 바뀌었습니다!\n",
      "x의 최대값이 바뀌었습니다!\n",
      "x의 최대값이 바뀌었습니다!\n",
      "y의 최소값이 바뀌었습니다!\n",
      "x의 최대값이 바뀌었습니다!\n",
      "x의 최대값이 바뀌었습니다!\n",
      "y의 최소값이 바뀌었습니다!\n",
      "x의 최대값이 바뀌었습니다!\n",
      "x의 최대값이 바뀌었습니다!\n",
      "y의 최소값이 바뀌었습니다!\n",
      "x의 최대값이 바뀌었습니다!\n",
      "x의 최대값이 바뀌었습니다!\n",
      "y의 최소값이 바뀌었습니다!\n",
      "x의 최대값이 바뀌었습니다!\n",
      "x의 최대값이 바뀌었습니다!\n",
      "y의 최소값이 바뀌었습니다!\n",
      "x의 최대값이 바뀌었습니다!\n",
      "x의 최대값이 바뀌었습니다!\n",
      "y의 최소값이 바뀌었습니다!\n",
      "x의 최대값이 바뀌었습니다!\n",
      "x의 최대값이 바뀌었습니다!\n",
      "y의 최소값이 바뀌었습니다!\n",
      "x의 최대값이 바뀌었습니다!\n",
      "x의 최대값이 바뀌었습니다!\n",
      "x의 최대값이 바뀌었습니다!\n",
      "y의 최소값이 바뀌었습니다!\n",
      "x의 최대값이 바뀌었습니다!\n",
      "x의 최대값이 바뀌었습니다!\n",
      "y의 최소값이 바뀌었습니다!\n",
      "x의 최대값이 바뀌었습니다!\n",
      "x의 최대값이 바뀌었습니다!\n",
      "y의 최소값이 바뀌었습니다!\n",
      "x의 최대값이 바뀌었습니다!\n",
      "x의 최대값이 바뀌었습니다!\n",
      "y의 최소값이 바뀌었습니다!\n",
      "x의 최대값이 바뀌었습니다!\n",
      "x의 최대값이 바뀌었습니다!\n",
      "y의 최소값이 바뀌었습니다!\n",
      "x의 최대값이 바뀌었습니다!\n",
      "x의 최대값이 바뀌었습니다!\n",
      "y의 최소값이 바뀌었습니다!\n",
      "x의 최대값이 바뀌었습니다!\n",
      "x의 최대값이 바뀌었습니다!\n",
      "y의 최소값이 바뀌었습니다!\n",
      "x의 최대값이 바뀌었습니다!\n",
      "x의 최대값이 바뀌었습니다!\n",
      "y의 최소값이 바뀌었습니다!\n",
      "x의 최대값이 바뀌었습니다!\n",
      "y의 최소값이 바뀌었습니다!\n",
      "x의 최대값이 바뀌었습니다!\n",
      "y의 최소값이 바뀌었습니다!\n",
      "x의 최대값이 바뀌었습니다!\n",
      "y의 최소값이 바뀌었습니다!\n",
      "x의 최대값이 바뀌었습니다!\n",
      "y의 최소값이 바뀌었습니다!\n",
      "x의 최대값이 바뀌었습니다!\n",
      "x의 최대값이 바뀌었습니다!\n",
      "y의 최소값이 바뀌었습니다!\n",
      "x의 최대값이 바뀌었습니다!\n",
      "y의 최소값이 바뀌었습니다!\n",
      "x의 최대값이 바뀌었습니다!\n",
      "y의 최소값이 바뀌었습니다!\n",
      "x의 최대값이 바뀌었습니다!\n",
      "y의 최소값이 바뀌었습니다!\n",
      "x의 최대값이 바뀌었습니다!\n",
      "y의 최소값이 바뀌었습니다!\n",
      "x의 최대값이 바뀌었습니다!\n",
      "y의 최소값이 바뀌었습니다!\n",
      "x의 최대값이 바뀌었습니다!\n",
      "y의 최소값이 바뀌었습니다!\n",
      "x의 최대값이 바뀌었습니다!\n",
      "x의 최대값이 바뀌었습니다!\n",
      "y의 최소값이 바뀌었습니다!\n",
      "x의 최대값이 바뀌었습니다!\n",
      "y의 최소값이 바뀌었습니다!\n",
      "x의 최대값이 바뀌었습니다!\n",
      "y의 최소값이 바뀌었습니다!\n",
      "x의 최대값이 바뀌었습니다!\n",
      "x의 최대값이 바뀌었습니다!\n",
      "y의 최소값이 바뀌었습니다!\n",
      "x의 최대값이 바뀌었습니다!\n",
      "y의 최소값이 바뀌었습니다!\n",
      "x의 최대값이 바뀌었습니다!\n",
      "y의 최소값이 바뀌었습니다!\n",
      "x의 최대값이 바뀌었습니다!\n",
      "x의 최대값이 바뀌었습니다!\n",
      "y의 최소값이 바뀌었습니다!\n",
      "x의 최대값이 바뀌었습니다!\n",
      "y의 최소값이 바뀌었습니다!\n",
      "x의 최대값이 바뀌었습니다!\n",
      "y의 최소값이 바뀌었습니다!\n",
      "x의 최대값이 바뀌었습니다!\n",
      "x의 최대값이 바뀌었습니다!\n",
      "y의 최소값이 바뀌었습니다!\n",
      "x의 최대값이 바뀌었습니다!\n",
      "x의 최대값이 바뀌었습니다!\n",
      "y의 최소값이 바뀌었습니다!\n",
      "x의 최대값이 바뀌었습니다!\n",
      "y의 최소값이 바뀌었습니다!\n",
      "x의 최대값이 바뀌었습니다!\n",
      "x의 최대값이 바뀌었습니다!\n",
      "y의 최소값이 바뀌었습니다!\n",
      "x의 최대값이 바뀌었습니다!\n",
      "x의 최대값이 바뀌었습니다!\n",
      "y의 최소값이 바뀌었습니다!\n",
      "x의 최대값이 바뀌었습니다!\n",
      "y의 최소값이 바뀌었습니다!\n",
      "x의 최대값이 바뀌었습니다!\n",
      "x의 최대값이 바뀌었습니다!\n",
      "y의 최소값이 바뀌었습니다!\n",
      "x의 최대값이 바뀌었습니다!\n",
      "y의 최소값이 바뀌었습니다!\n",
      "x의 최대값이 바뀌었습니다!\n",
      "x의 최대값이 바뀌었습니다!\n",
      "y의 최소값이 바뀌었습니다!\n",
      "x의 최대값이 바뀌었습니다!\n",
      "x의 최대값이 바뀌었습니다!\n",
      "y의 최소값이 바뀌었습니다!\n",
      "x의 최대값이 바뀌었습니다!\n",
      "x의 최대값이 바뀌었습니다!\n",
      "y의 최소값이 바뀌었습니다!\n",
      "x의 최대값이 바뀌었습니다!\n",
      "x의 최대값이 바뀌었습니다!\n",
      "y의 최소값이 바뀌었습니다!\n",
      "x의 최대값이 바뀌었습니다!\n",
      "x의 최대값이 바뀌었습니다!\n",
      "y의 최소값이 바뀌었습니다!\n",
      "x의 최대값이 바뀌었습니다!\n",
      "x의 최대값이 바뀌었습니다!\n",
      "y의 최소값이 바뀌었습니다!\n",
      "x의 최대값이 바뀌었습니다!\n",
      "x의 최대값이 바뀌었습니다!\n",
      "y의 최소값이 바뀌었습니다!\n",
      "x의 최대값이 바뀌었습니다!\n",
      "x의 최대값이 바뀌었습니다!\n",
      "y의 최소값이 바뀌었습니다!\n",
      "x의 최대값이 바뀌었습니다!\n",
      "x의 최대값이 바뀌었습니다!\n",
      "y의 최소값이 바뀌었습니다!\n",
      "x의 최대값이 바뀌었습니다!\n",
      "x의 최대값이 바뀌었습니다!\n",
      "x의 최대값이 바뀌었습니다!\n",
      "y의 최소값이 바뀌었습니다!\n",
      "x의 최대값이 바뀌었습니다!\n",
      "x의 최대값이 바뀌었습니다!\n",
      "x의 최대값이 바뀌었습니다!\n",
      "y의 최소값이 바뀌었습니다!\n",
      "x의 최대값이 바뀌었습니다!\n",
      "x의 최대값이 바뀌었습니다!\n",
      "y의 최소값이 바뀌었습니다!\n",
      "x의 최대값이 바뀌었습니다!\n",
      "x의 최대값이 바뀌었습니다!\n",
      "x의 최대값이 바뀌었습니다!\n",
      "y의 최소값이 바뀌었습니다!\n",
      "x의 최대값이 바뀌었습니다!\n",
      "x의 최대값이 바뀌었습니다!\n",
      "x의 최대값이 바뀌었습니다!\n",
      "y의 최소값이 바뀌었습니다!\n",
      "x의 최대값이 바뀌었습니다!\n",
      "x의 최대값이 바뀌었습니다!\n",
      "x의 최대값이 바뀌었습니다!\n",
      "y의 최소값이 바뀌었습니다!\n",
      "x의 최대값이 바뀌었습니다!\n",
      "x의 최대값이 바뀌었습니다!\n",
      "x의 최대값이 바뀌었습니다!\n",
      "y의 최소값이 바뀌었습니다!\n",
      "x의 최대값이 바뀌었습니다!\n",
      "x의 최대값이 바뀌었습니다!\n",
      "x의 최대값이 바뀌었습니다!\n",
      "y의 최소값이 바뀌었습니다!\n",
      "x의 최대값이 바뀌었습니다!\n",
      "x의 최대값이 바뀌었습니다!\n",
      "x의 최대값이 바뀌었습니다!\n",
      "x의 최대값이 바뀌었습니다!\n",
      "y의 최소값이 바뀌었습니다!\n",
      "x의 최대값이 바뀌었습니다!\n",
      "x의 최대값이 바뀌었습니다!\n",
      "x의 최대값이 바뀌었습니다!\n",
      "x의 최대값이 바뀌었습니다!\n",
      "y의 최소값이 바뀌었습니다!\n",
      "x의 최대값이 바뀌었습니다!\n",
      "x의 최대값이 바뀌었습니다!\n",
      "x의 최대값이 바뀌었습니다!\n",
      "x의 최대값이 바뀌었습니다!\n",
      "x의 최대값이 바뀌었습니다!\n",
      "y의 최소값이 바뀌었습니다!\n",
      "x의 최대값이 바뀌었습니다!\n",
      "x의 최대값이 바뀌었습니다!\n",
      "x의 최대값이 바뀌었습니다!\n",
      "x의 최대값이 바뀌었습니다!\n",
      "x의 최대값이 바뀌었습니다!\n",
      "x의 최대값이 바뀌었습니다!\n",
      "y의 최소값이 바뀌었습니다!\n",
      "x의 최대값이 바뀌었습니다!\n",
      "x의 최대값이 바뀌었습니다!\n",
      "x의 최대값이 바뀌었습니다!\n",
      "x의 최대값이 바뀌었습니다!\n",
      "x의 최대값이 바뀌었습니다!\n",
      "x의 최대값이 바뀌었습니다!\n",
      "x의 최대값이 바뀌었습니다!\n",
      "y의 최소값이 바뀌었습니다!\n",
      "x의 최대값이 바뀌었습니다!\n",
      "x의 최대값이 바뀌었습니다!\n",
      "x의 최대값이 바뀌었습니다!\n",
      "x의 최대값이 바뀌었습니다!\n",
      "픽셀_RGB값은  [255 127  39]\n",
      "좌표축_x 범위는  197 360\n",
      "좌표축_y 범위는  56 364\n"
     ]
    }
   ],
   "source": [
    "from PIL import Image\n",
    "import numpy as np\n",
    "import cv2\n",
    "\n",
    "im_name = input(\"검출할 사진의 이름을 입력해 주세요. >> \")\n",
    "\n",
    "full_name = im_name+\".png\"\n",
    "\n",
    "im = Image.open(full_name)\n",
    "pix = np.array(im)\n",
    "\n",
    "image = cv2.imread('test_img.png')\n",
    "\n",
    "im_x = im.size[1]\n",
    "im_y = im.size[0]\n",
    "\n",
    "print(\"좌표 영역 끝값은 \", im_x, im_y)\n",
    "\n",
    "# 색상 지정\n",
    "find_color = [0, 0, 0]\n",
    "find_color1 = [18,0,253]\n",
    "find_color2 = [255, 127, 39]\n",
    "find_color3 = [237, 28, 36]\n",
    "\n",
    "chose_color = int(input(\"어떤 색을 찾을까요? 1. 파랑, 2. 주황, 3. 빨강 (숫자를 입력해 주세요)>>\"))\n",
    "\n",
    "if chose_color == 1:\n",
    "    find_color = find_color1\n",
    "elif chose_color == 2:\n",
    "    find_color = find_color2\n",
    "elif chose_color == 3:\n",
    "    find_color = find_color3\n",
    "else :\n",
    "    print(\"에러를 입력했습니다.\")\n",
    "    \n",
    "\n",
    "# 색상 범위 설정\n",
    "high_color = [find_color[0]+10, find_color[1]+10, find_color[2]+10]\n",
    "low_color = [find_color[0]-10, find_color[1]-10, find_color[2]-10]\n",
    "\n",
    "if low_color[1] < 0:\n",
    "    low_color[1] = 0\n",
    "    print(\"low_color 값 조정중...\", low_color[1])\n",
    "    \n",
    "print(\"하이컬러는 \", high_color, \" 로우 컬러는 \", low_color, \"입니다.\")\n",
    "\n",
    "middle_x = 0\n",
    "middle_y = 0\n",
    "\n",
    "if (im_x/2)%2 == 0:\n",
    "    middle_x = (im_x/2)\n",
    "else:\n",
    "    middle_x = (im_x//2)\n",
    "\n",
    "if (im_y/2)%2 == 0:\n",
    "    middle_y = (im_y/2)\n",
    "else:\n",
    "    middle_y = (im_y//2)\n",
    "    \n",
    "# 색상 인식 좌표범위 저장값\n",
    "axis_x = [im_x, 0]\n",
    "axis_y = [im_y, 0]\n",
    "\n",
    "# for : image x와 y 좌표전체를 반복시행 ex) (1, 1), (1, 2), (1, 3)...\n",
    "for x in range(im_x):\n",
    "    for y in range(im_y):\n",
    "        # 현재 for문으로 돌리는 좌표 픽셀값을 확인\n",
    "        pix_RGB = pix[x][y]\n",
    "        #print(\"현재 점검 좌표의 픽셀 값은 \", pix_RGB)\n",
    "        \n",
    "        # if : 현재 for문 위치 픽셀 좌표의 RGB값이 color범위값 사이에 있다면\n",
    "        if pix_RGB[0] >= low_color[0] and pix_RGB[1] >= low_color[1] and pix_RGB[2] >= low_color[2] and pix_RGB[0] <= high_color[0] and pix_RGB[1] <= high_color[1] and pix_RGB[2] <= high_color[2]:\n",
    "            tmp_x = x\n",
    "            tmp_y = y\n",
    "            #print(\"tmp_x, y 는\", tmp_x, tmp_y)\n",
    "            \n",
    "            # tmp_x와 y값을 범위 값에 저장\n",
    "            if tmp_x < axis_x[0]:\n",
    "                axis_x[0] = tmp_x\n",
    "                print(\"x의 최소값이 바뀌었습니다!\")\n",
    "                \n",
    "            elif tmp_x > axis_x[1]:\n",
    "                axis_x[1] = tmp_x\n",
    "                print(\"x의 최대값이 바뀌었습니다!\")\n",
    "                \n",
    "            elif tmp_y < axis_y[0]:\n",
    "                axis_y[0] = tmp_y\n",
    "                print(\"y의 최소값이 바뀌었습니다!\")\n",
    "                \n",
    "            elif tmp_y > axis_y[1]:\n",
    "                axis_y[1] = tmp_y\n",
    "                print(\"x의 최대값이 바뀌었습니다!\")\n",
    "\n",
    "\n",
    "print(\"픽셀_RGB값은 \", pix_RGB)\n",
    "print(\"좌표축_x 범위는 \", axis_x[0], axis_x[1])\n",
    "print(\"좌표축_y 범위는 \", axis_y[0], axis_y[1])\n",
    "\n",
    "imageRectangle = image.copy()\n",
    "cv2.rectangle(imageRectangle, \n",
    "            (axis_x[0],axis_y[0]),\n",
    "            (axis_x[1],axis_y[1]),\n",
    "            (0,0,255),\n",
    "            thickness=5, \n",
    "            lineType=cv2.LINE_AA)  \n",
    "cv2.imshow(\"image\", imageRectangle) \n",
    "\n",
    "cv2.waitKey(0)\n",
    "cv2.destroyAllWindows()"
   ]
  },
  {
   "cell_type": "code",
   "execution_count": 28,
   "id": "db46a028",
   "metadata": {},
   "outputs": [
    {
     "name": "stdout",
     "output_type": "stream",
     "text": [
      "좌표축_x 범위는  180 360\n",
      "좌표축_y 범위는  182 364\n"
     ]
    }
   ],
   "source": [
    "print(\"좌표축_x 범위는 \", axis_x[0], axis_x[1])\n",
    "print(\"좌표축_y 범위는 \", axis_y[0], axis_y[1])"
   ]
  },
  {
   "cell_type": "code",
   "execution_count": 58,
   "id": "61aa09cc",
   "metadata": {},
   "outputs": [
    {
     "name": "stdout",
     "output_type": "stream",
     "text": [
      "[237, 28, 36]\n"
     ]
    }
   ],
   "source": [
    "print(find_color)"
   ]
  },
  {
   "cell_type": "code",
   "execution_count": 8,
   "id": "cbe3a5c6",
   "metadata": {},
   "outputs": [
    {
     "name": "stdout",
     "output_type": "stream",
     "text": [
      "[243, 0, 8]\n",
      "[263, 10, 28]\n"
     ]
    }
   ],
   "source": [
    "print(low_color)\n",
    "print(high_color)"
   ]
  },
  {
   "cell_type": "code",
   "execution_count": 47,
   "id": "b33da2d0",
   "metadata": {},
   "outputs": [
    {
     "name": "stdout",
     "output_type": "stream",
     "text": [
      "True False\n"
     ]
    }
   ],
   "source": [
    "print(pix_RGB[0] > low_color[0], pix_RGB[0] < high_color[0])"
   ]
  },
  {
   "cell_type": "code",
   "execution_count": 4,
   "id": "17f4c0a5",
   "metadata": {},
   "outputs": [
    {
     "name": "stdout",
     "output_type": "stream",
     "text": [
      "컬러 최대값은  [28, 10, 263]\n",
      "컬러 색상값은  [18, 0, 253]\n"
     ]
    }
   ],
   "source": [
    "print(\"컬러 최대값은 \", high_color)\n",
    "print(\"컬러 색상값은 \", [18, 0, 253])"
   ]
  },
  {
   "cell_type": "code",
   "execution_count": 5,
   "id": "2f098ee0",
   "metadata": {},
   "outputs": [
    {
     "data": {
      "text/plain": [
       "array([False, False,  True])"
      ]
     },
     "execution_count": 5,
     "metadata": {},
     "output_type": "execute_result"
    }
   ],
   "source": [
    "pix_RGB < high_color"
   ]
  },
  {
   "cell_type": "code",
   "execution_count": 7,
   "id": "2b20704d",
   "metadata": {},
   "outputs": [
    {
     "data": {
      "text/plain": [
       "True"
      ]
     },
     "execution_count": 7,
     "metadata": {},
     "output_type": "execute_result"
    }
   ],
   "source": [
    "pix_RGB[0] > low_color[0]"
   ]
  },
  {
   "cell_type": "code",
   "execution_count": 1,
   "id": "f785e8b7",
   "metadata": {},
   "outputs": [
    {
     "name": "stdout",
     "output_type": "stream",
     "text": [
      "좌표 영역 끝값은  361 365\n"
     ]
    }
   ],
   "source": [
    "from PIL import Image\n",
    "import numpy as np\n",
    "import cv2\n",
    "\n",
    "im = Image.open('test_img.png')\n",
    "pix = np.array(im)\n",
    "\n",
    "image = cv2.imread('test_img.png')\n",
    "\n",
    "im_x = im.size[1]\n",
    "im_y = im.size[0]\n",
    "\n",
    "print(\"좌표 영역 끝값은 \", im_x, im_y)\n",
    "\n",
    "# 색상 인식 좌표범위 저장값\n",
    "axis_x = [(im_x/2), (im_x/2)]\n",
    "axis_y = [(im_y/2), (im_y/2)]"
   ]
  },
  {
   "cell_type": "code",
   "execution_count": 3,
   "id": "0f038af7",
   "metadata": {},
   "outputs": [
    {
     "name": "stdout",
     "output_type": "stream",
     "text": [
      "axis_x의 값은  [180.5, 180.5]\n",
      "axis_y의 값은  [182.5, 182.5]\n"
     ]
    }
   ],
   "source": [
    "print(\"axis_x의 값은 \", axis_x)\n",
    "print(\"axis_y의 값은 \", axis_y)"
   ]
  },
  {
   "cell_type": "code",
   "execution_count": 31,
   "id": "1e8c8450",
   "metadata": {},
   "outputs": [
    {
     "ename": "NameError",
     "evalue": "name 'date' is not defined",
     "output_type": "error",
     "traceback": [
      "\u001b[1;31m---------------------------------------------------------------------------\u001b[0m",
      "\u001b[1;31mNameError\u001b[0m                                 Traceback (most recent call last)",
      "\u001b[1;32m<ipython-input-31-801a44dc1668>\u001b[0m in \u001b[0;36m<module>\u001b[1;34m\u001b[0m\n\u001b[1;32m----> 1\u001b[1;33m \u001b[0mdate\u001b[0m\u001b[1;33m(\u001b[0m\u001b[1;33m)\u001b[0m\u001b[1;33m\u001b[0m\u001b[1;33m\u001b[0m\u001b[0m\n\u001b[0m",
      "\u001b[1;31mNameError\u001b[0m: name 'date' is not defined"
     ]
    }
   ],
   "source": [
    "date()"
   ]
  },
  {
   "cell_type": "code",
   "execution_count": 32,
   "id": "3570f412",
   "metadata": {},
   "outputs": [
    {
     "name": "stdout",
     "output_type": "stream",
     "text": [
      "Wall time: 0 ns\n"
     ]
    },
    {
     "data": {
      "text/plain": [
       "()"
      ]
     },
     "execution_count": 32,
     "metadata": {},
     "output_type": "execute_result"
    }
   ],
   "source": [
    "time()"
   ]
  },
  {
   "cell_type": "code",
   "execution_count": 33,
   "id": "e74a217c",
   "metadata": {},
   "outputs": [
    {
     "name": "stdout",
     "output_type": "stream",
     "text": [
      "Wall time: 0 ns\n"
     ]
    },
    {
     "data": {
      "text/plain": [
       "10"
      ]
     },
     "execution_count": 33,
     "metadata": {},
     "output_type": "execute_result"
    }
   ],
   "source": [
    "time(10)"
   ]
  },
  {
   "cell_type": "code",
   "execution_count": 34,
   "id": "12c0abc6",
   "metadata": {},
   "outputs": [
    {
     "ename": "NameError",
     "evalue": "name 'time' is not defined",
     "output_type": "error",
     "traceback": [
      "\u001b[1;31m---------------------------------------------------------------------------\u001b[0m",
      "\u001b[1;31mNameError\u001b[0m                                 Traceback (most recent call last)",
      "\u001b[1;32m<ipython-input-34-c5058db20bc1>\u001b[0m in \u001b[0;36m<module>\u001b[1;34m\u001b[0m\n\u001b[1;32m----> 1\u001b[1;33m \u001b[0mhelp\u001b[0m\u001b[1;33m(\u001b[0m\u001b[0mtime\u001b[0m\u001b[1;33m)\u001b[0m\u001b[1;33m\u001b[0m\u001b[1;33m\u001b[0m\u001b[0m\n\u001b[0m",
      "\u001b[1;31mNameError\u001b[0m: name 'time' is not defined"
     ]
    }
   ],
   "source": [
    "help(time)"
   ]
  },
  {
   "cell_type": "code",
   "execution_count": 35,
   "id": "b7110b5c",
   "metadata": {},
   "outputs": [
    {
     "name": "stdout",
     "output_type": "stream",
     "text": [
      "1636957419.0972815\n"
     ]
    }
   ],
   "source": [
    "import time\n",
    "\n",
    "secs = time.time()\n",
    "print(secs)"
   ]
  },
  {
   "cell_type": "code",
   "execution_count": 36,
   "id": "858e9241",
   "metadata": {},
   "outputs": [
    {
     "name": "stdout",
     "output_type": "stream",
     "text": [
      "time.struct_time(tm_year=2019, tm_mon=11, tm_mday=30, tm_hour=19, tm_min=35, tm_sec=26, tm_wday=5, tm_yday=334, tm_isdst=0)\n"
     ]
    }
   ],
   "source": [
    "import time\n",
    "\n",
    "tm = time.gmtime(1575142526.500323)\n",
    "print(tm)"
   ]
  },
  {
   "cell_type": "code",
   "execution_count": 37,
   "id": "38c56ba1",
   "metadata": {},
   "outputs": [
    {
     "name": "stdout",
     "output_type": "stream",
     "text": [
      "year: 2019\n",
      "month: 12\n",
      "day: 1\n",
      "hour: 4\n",
      "minute: 35\n",
      "second: 26\n"
     ]
    }
   ],
   "source": [
    "import time\n",
    "\n",
    "tm = time.localtime(1575142526.500323)\n",
    "print(\"year:\", tm.tm_year)\n",
    "print(\"month:\", tm.tm_mon)\n",
    "print(\"day:\", tm.tm_mday)\n",
    "print(\"hour:\", tm.tm_hour)\n",
    "print(\"minute:\", tm.tm_min)\n",
    "print(\"second:\", tm.tm_sec)"
   ]
  },
  {
   "cell_type": "code",
   "execution_count": 67,
   "id": "79b99aec",
   "metadata": {},
   "outputs": [
    {
     "name": "stdout",
     "output_type": "stream",
     "text": [
      "검출할 사진의 이름을 입력해 주세요. >> \n",
      "어떤 색을 찾을까요? 1. 파랑, 2. 주황, 3. 빨강 (숫자를 입력해 주세요)>>3\n"
     ]
    }
   ],
   "source": [
    "from PIL import Image\n",
    "import numpy as np\n",
    "import cv2\n",
    "\n",
    "im_name = input(\"검출할 사진의 이름을 입력해 주세요. >> \")\n",
    "\n",
    "if im_name == \"\":\n",
    "    im_name = \"test_img\"\n",
    "\n",
    "full_name = im_name+\".png\"\n",
    "\n",
    "im = Image.open(full_name)\n",
    "pix = np.array(im)\n",
    "\n",
    "image = cv2.imread('test_img.png')\n",
    "\n",
    "im_x = im.size[0]\n",
    "im_y = im.size[1]\n",
    "\n",
    "#print(\"좌표 영역 끝값은 \", im_x, im_y)\n",
    "\n",
    "# 색상 지정\n",
    "find_color = [0, 0, 0]\n",
    "find_color1 = [18,0,253]\n",
    "find_color2 = [255, 127, 39]\n",
    "find_color3 = [237, 28, 36]\n",
    "\n",
    "chose_color = int(input(\"어떤 색을 찾을까요? 1. 파랑, 2. 주황, 3. 빨강 (숫자를 입력해 주세요)>>\"))\n",
    "\n",
    "if chose_color == 1:\n",
    "    find_color = find_color1\n",
    "elif chose_color == 2:\n",
    "    find_color = find_color2\n",
    "elif chose_color == 3:\n",
    "    find_color = find_color3\n",
    "else :\n",
    "    print(\"에러를 입력했습니다.\")\n",
    "    \n",
    "\n",
    "# 색상 범위 설정\n",
    "high_color = [find_color[0]+10, find_color[1]+10, find_color[2]+10]\n",
    "low_color = [find_color[0]-10, find_color[1]-10, find_color[2]-10]\n",
    "\n",
    "if low_color[1] < 0:\n",
    "    low_color[1] = 0\n",
    "    print(\"low_color 값 조정중...\", low_color[1])\n",
    "    \n",
    "#print(\"하이컬러는 \", high_color, \" 로우 컬러는 \", low_color, \"입니다.\")\n",
    "    \n",
    "# 색상 영역에 포함될시 axis에 저장\n",
    "axis = []\n",
    "axis_len = 0\n",
    "\n",
    "# 최종 좌표 저장위치, 디폴트는 최소값이 좌표끝값 / 최대값이 0\n",
    "axis_x = [im_x, 0]\n",
    "axis_y = [im_y, 0]\n",
    "\n",
    "\n",
    "# for : image x와 y 좌표전체를 반복시행 ex) (1, 1), (1, 2), (1, 3)...\n",
    "for x in range(im_x):\n",
    "    for y in range(im_y):\n",
    "        # 현재 for문으로 돌리는 좌표 픽셀값을 확인\n",
    "        pix_RGB = pix[y][x]\n",
    "        #print(\"현재 점검 좌표의 픽셀 값은 \", pix_RGB)\n",
    "        \n",
    "        # if : 현재 for문 위치 픽셀 좌표의 RGB값이 color범위값 사이에 있다면\n",
    "        if pix_RGB[0] >= low_color[0] and pix_RGB[1] >= low_color[1] and pix_RGB[2] >= low_color[2] and pix_RGB[0] <= high_color[0] and pix_RGB[1] <= high_color[1] and pix_RGB[2] <= high_color[2]:\n",
    "            axis.append([x, y])\n",
    "            \n",
    "#print(\"axis 값 출력 >>\")\n",
    "#print(axis)\n",
    "for tmp_axis in axis:\n",
    "    # 최소 위치x 찾기\n",
    "    if tmp_axis[0] < axis_x[0]:\n",
    "        axis_x[0] = tmp_axis[0]\n",
    "        #print(\"최소x 변환 bool 체크 : \", bool(tmp_axis[0]==axis_x[0]), \"최대 x는 \", axis_x[0], \" 와 \", tmp_axis[0])\n",
    "    # 최소 위치y 찾기\n",
    "    if tmp_axis[1] < axis_y[0]:\n",
    "        axis_y[0] = tmp_axis[1]\n",
    "        #print(\"최소y 변환 bool 체크 : \", bool(tmp_axis[1]==axis_y[0]), \"최대 y는 \", axis_y[1], \" 와 \", tmp_axis[1])\n",
    "                \n",
    "    # 최대 위치x 찾기\n",
    "    if tmp_axis[0] > axis_x[1]:\n",
    "        axis_x[1] = tmp_axis[0]\n",
    "        #print(\"최대x 변환 bool 체크 : \", bool(tmp_axis[0]==axis_x[1]), \"최대 x는 \", axis_x[1], \" 와 \", tmp_axis[0])\n",
    "\n",
    "    # 최대 위치y  찾기\n",
    "    if tmp_axis[1] > axis_y[1]:\n",
    "        axis_y[1] = tmp_axis[1]\n",
    "        #print(\"최대y 변환 bool 체크 : \", bool(tmp_axis[1]==axis_y[1]), \"최대 y는 \", axis_y[1], \" 와 \", tmp_axis[1])\n",
    "\n",
    "#print(\"픽셀_RGB값은 \", pix_RGB)\n",
    "#print(\"좌표축_x 범위는 \", axis_x[0], axis_x[1])\n",
    "#print(\"좌표축_y 범위는 \", axis_y[0], axis_y[1])\n",
    "\n",
    "imageRectangle = image.copy()\n",
    "cv2.rectangle(imageRectangle, \n",
    "            (axis_x[0], axis_y[0]),\n",
    "            (axis_x[1], axis_y[1]),\n",
    "            (0,0,255),\n",
    "            thickness=5, \n",
    "            lineType=cv2.LINE_AA)  \n",
    "cv2.imshow(\"image\", imageRectangle) \n",
    "\n",
    "cv2.waitKey(0)\n",
    "cv2.destroyAllWindows()"
   ]
  },
  {
   "cell_type": "code",
   "execution_count": null,
   "id": "01bfcd17",
   "metadata": {},
   "outputs": [],
   "source": []
  },
  {
   "cell_type": "code",
   "execution_count": null,
   "id": "80210bf5",
   "metadata": {},
   "outputs": [],
   "source": []
  }
 ],
 "metadata": {
  "kernelspec": {
   "display_name": "Python 3",
   "language": "python",
   "name": "python3"
  },
  "language_info": {
   "codemirror_mode": {
    "name": "ipython",
    "version": 3
   },
   "file_extension": ".py",
   "mimetype": "text/x-python",
   "name": "python",
   "nbconvert_exporter": "python",
   "pygments_lexer": "ipython3",
   "version": "3.8.8"
  }
 },
 "nbformat": 4,
 "nbformat_minor": 5
}
